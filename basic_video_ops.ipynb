{
 "cells": [
  {
   "cell_type": "markdown",
   "id": "d1d8cca6-fd04-44b2-8dc2-05c7fd091539",
   "metadata": {},
   "source": [
    "A video is nothing but a series of images knit together. These image are often called frames. In other words, video can be considered as having one more (temporal) dimension. So, what you need to do is loop over all the frames in sequences, and then process one frame at a time.\n",
    "\n",
    "# Display video"
   ]
  },
  {
   "cell_type": "code",
   "execution_count": 5,
   "id": "3ba188fd-0120-488d-a709-683ba6b49815",
   "metadata": {},
   "outputs": [],
   "source": [
    "import cv2 as cv\n",
    "# create a object called cap\n",
    "cap = cv.VideoCapture('video/cars.mp4')\n",
    "\n",
    "# check if the object is created successfully\n",
    "if not cap.isOpened():\n",
    "    raise Exception(\"No video detected\")\n",
    "\n",
    "# Read the frame with loop\n",
    "while cap.isOpened():\n",
    "    ret, frame = cap.read()\n",
    "\n",
    "    if not ret:\n",
    "        print(\"No frame received\")\n",
    "        break\n",
    "\n",
    "    cv.imshow(\"frame\", frame)\n",
    "    # press escape key to exit the loop\n",
    "    if cv.waitKey(1) & 0xFF == ord('q'):\n",
    "        break\n",
    "\n",
    "cap.release()\n",
    "cv.destroyAllWindows()"
   ]
  },
  {
   "cell_type": "markdown",
   "id": "a01f55ab-9986-41c3-af71-b6bc6e1809af",
   "metadata": {},
   "source": [
    "# Show and save video"
   ]
  },
  {
   "cell_type": "code",
   "execution_count": 3,
   "id": "c0cc45e8-c07c-4d3e-bb9c-75beb23c75d6",
   "metadata": {},
   "outputs": [],
   "source": [
    "cap = cv.VideoCapture(0)\n",
    "\n",
    "width = int(cap.get(3))  # width\n",
    "height = int(cap.get(4))  # height\n",
    "\n",
    "# define the codec\n",
    "fourcc = cv.VideoWriter_fourcc(\"M\", \"J\", \"P\", \"G\")\n",
    "fps = 20\n",
    "out = cv.VideoWriter('video/out.avi', fourcc, fps, (width, height))\n",
    "\n",
    "if not cap.isOpened():\n",
    "    raise Exception(\"No webcam detected\")\n",
    "\n",
    "while cap.isOpened():\n",
    "    ret, frame = cap.read()\n",
    "\n",
    "    if not ret:\n",
    "        print(\"Can't receive frame\")\n",
    "        break\n",
    "\n",
    "    out.write(frame)\n",
    "    cv.imshow(\"cam\", frame)\n",
    "    if cv.waitKey(1) & 0xFF == 27:\n",
    "        break\n",
    "\n",
    "cap.release()\n",
    "cv.destroyAllWindows()"
   ]
  },
  {
   "cell_type": "code",
   "execution_count": null,
   "id": "fb64dd53-8b9e-48b9-9394-f2927ba4f98e",
   "metadata": {},
   "outputs": [],
   "source": []
  }
 ],
 "metadata": {
  "kernelspec": {
   "display_name": "Python 3 (ipykernel)",
   "language": "python",
   "name": "python3"
  },
  "language_info": {
   "codemirror_mode": {
    "name": "ipython",
    "version": 3
   },
   "file_extension": ".py",
   "mimetype": "text/x-python",
   "name": "python",
   "nbconvert_exporter": "python",
   "pygments_lexer": "ipython3",
   "version": "3.10.12"
  }
 },
 "nbformat": 4,
 "nbformat_minor": 5
}
