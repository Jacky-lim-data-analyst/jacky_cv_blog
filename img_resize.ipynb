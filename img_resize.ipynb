{
 "cells": [
  {
   "cell_type": "markdown",
   "id": "b60955e9-b23b-4bb3-90ca-d93c99bbd1f7",
   "metadata": {},
   "source": [
    "Image resizing is operation that alters the image dimension (width and height) through certain *interpolation* method. In other word, resizing refers to either expanding or shrinking an image size. Technically speaking, we can either set an arbitrary size or specific scale factor. There are a handful of interpolation methods to choose from including **bilinear, cubic, nearest neighbor, Lanczos** and etc.\n",
    "For those who wish to dive deep into the math of interpolation, you can refer to this [online material](https://courses.cs.washington.edu/courses/cse576/24sp/notes/3_Resizing_20.pdf).\n",
    "\n",
    "# set arbitrary size"
   ]
  },
  {
   "cell_type": "code",
   "execution_count": 1,
   "id": "8a12301b-3e2d-418a-9a35-984d2b2765d7",
   "metadata": {},
   "outputs": [
    {
     "name": "stdout",
     "output_type": "stream",
     "text": [
      "The size of original image: (3980, 4076)\n",
      "The size of resized image: (400, 400)\n"
     ]
    }
   ],
   "source": [
    "import cv2 as cv\n",
    "\n",
    "img = cv.imread(\"images/star.png\")\n",
    "\n",
    "# arbitrary width and height\n",
    "width = 400\n",
    "height = 400\n",
    "\n",
    "print(f\"The size of original image: {img.shape[:2]}\")\n",
    "resized = cv.resize(img, (width, height))\n",
    "print(f\"The size of resized image: {resized.shape[:2]}\")"
   ]
  },
  {
   "cell_type": "code",
   "execution_count": 2,
   "id": "b1e62286-7460-4e02-a48f-ee1169bc150c",
   "metadata": {},
   "outputs": [
    {
     "data": {
      "text/plain": [
       "True"
      ]
     },
     "execution_count": 2,
     "metadata": {},
     "output_type": "execute_result"
    }
   ],
   "source": [
    "cv.imwrite(\"artifacts/star_ori.jpg\", img)\n",
    "cv.imwrite(\"artifacts/star_shrink.jpg\", resized)"
   ]
  },
  {
   "cell_type": "markdown",
   "id": "cf9b3de7-f43d-4a66-8d25-f27eff1f1a0b",
   "metadata": {},
   "source": [
    "# scale factor"
   ]
  },
  {
   "cell_type": "code",
   "execution_count": 3,
   "id": "3f694981-08a5-475f-a305-de24dbc04c58",
   "metadata": {},
   "outputs": [
    {
     "name": "stdout",
     "output_type": "stream",
     "text": [
      "The size of original image: (148, 148)\n",
      "The size of enlarged image: (444, 444)\n"
     ]
    }
   ],
   "source": [
    "img = cv.imread(\"images/road.jpeg\")\n",
    "\n",
    "scale_factor = 3\n",
    "\n",
    "resized = cv.resize(img, None, fx=scale_factor, fy=scale_factor)\n",
    "print(f\"The size of original image: {img.shape[:2]}\")\n",
    "print(f\"The size of enlarged image: {resized.shape[:2]}\")"
   ]
  },
  {
   "cell_type": "code",
   "execution_count": 4,
   "id": "172d1605-39e3-45d0-b660-0fdbcac2fbb4",
   "metadata": {},
   "outputs": [
    {
     "data": {
      "text/plain": [
       "True"
      ]
     },
     "execution_count": 4,
     "metadata": {},
     "output_type": "execute_result"
    }
   ],
   "source": [
    "cv.imwrite(\"artifacts/road_ori.jpeg\", img)\n",
    "cv.imwrite(\"artifacts/road_large.jpg\", resized)"
   ]
  },
  {
   "cell_type": "code",
   "execution_count": 5,
   "id": "3f126c73-4212-4ac4-a168-aacad3174f7e",
   "metadata": {},
   "outputs": [
    {
     "name": "stdout",
     "output_type": "stream",
     "text": [
      "Time needed for nn method: 0.000s.\n",
      "Time needed for bilinear method: 0.000s.\n",
      "Time needed for cubic method: 0.009s.\n",
      "Time needed for lanczos method: 0.006s.\n"
     ]
    }
   ],
   "source": [
    "import time\n",
    "\n",
    "img = cv.imread(\"images/road.jpeg\")\n",
    "name_flag = {\"nn\": cv.INTER_NEAREST, \"bilinear\": cv.INTER_LINEAR, \n",
    "            \"cubic\": cv.INTER_CUBIC, \"lanczos\": cv.INTER_LANCZOS4}\n",
    "scale_factor = 3\n",
    "for name, flag in name_flag.items():\n",
    "    start = time.time()\n",
    "    resized = cv.resize(img, None, fx=scale_factor, fy=scale_factor,\n",
    "                       interpolation=flag)\n",
    "    print(f\"Time needed for {name} method: {(time.time() - start):.3f}s.\")\n",
    "    cv.imwrite(f\"artifacts/road_{name}.jpeg\", resized)"
   ]
  },
  {
   "cell_type": "code",
   "execution_count": null,
   "id": "9fcb976a-f30c-46e6-a42e-c5c424e464f2",
   "metadata": {},
   "outputs": [],
   "source": []
  }
 ],
 "metadata": {
  "kernelspec": {
   "display_name": "Python 3 (ipykernel)",
   "language": "python",
   "name": "python3"
  },
  "language_info": {
   "codemirror_mode": {
    "name": "ipython",
    "version": 3
   },
   "file_extension": ".py",
   "mimetype": "text/x-python",
   "name": "python",
   "nbconvert_exporter": "python",
   "pygments_lexer": "ipython3",
   "version": "3.10.12"
  }
 },
 "nbformat": 4,
 "nbformat_minor": 5
}
